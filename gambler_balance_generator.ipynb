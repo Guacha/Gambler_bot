{
 "metadata": {
  "language_info": {
   "codemirror_mode": {
    "name": "ipython",
    "version": 3
   },
   "file_extension": ".py",
   "mimetype": "text/x-python",
   "name": "python",
   "nbconvert_exporter": "python",
   "pygments_lexer": "ipython3",
   "version": "3.7.0-final"
  },
  "orig_nbformat": 2,
  "kernelspec": {
   "name": "python3",
   "display_name": "Python 3",
   "language": "python"
  }
 },
 "nbformat": 4,
 "nbformat_minor": 2,
 "cells": [
  {
   "source": [
    "Setup para cuaderno"
   ],
   "cell_type": "markdown",
   "metadata": {}
  },
  {
   "cell_type": "code",
   "execution_count": null,
   "metadata": {},
   "outputs": [],
   "source": [
    "%set_env GOOGLE_APPLICATION_CREDENTIALS=google-credentials.json"
   ]
  },
  {
   "cell_type": "code",
   "execution_count": 7,
   "metadata": {},
   "outputs": [
    {
     "output_type": "stream",
     "name": "stdout",
     "text": [
      "\tInicializando submódulo StockMarket.market\n",
      "\tMódulo cargado con éxito\n"
     ]
    }
   ],
   "source": [
    "import DB_Control\n",
    "import requests, json\n",
    "from bs4 import BeautifulSoup\n",
    "from StockMarket.market import StockMarket\n",
    "\n",
    "db = DB_Control.initialise_database()\n",
    "stonks = StockMarket(db)"
   ]
  },
  {
   "source": [
    "Recrear archivo dump con información de las acciones"
   ],
   "cell_type": "markdown",
   "metadata": {}
  },
  {
   "cell_type": "code",
   "execution_count": 8,
   "metadata": {},
   "outputs": [
    {
     "output_type": "stream",
     "name": "stdout",
     "text": [
      "Revisando acción: AAPL\n",
      "Revisando acción: ABT\n",
      "Revisando acción: AMC\n",
      "Revisando acción: AMD\n",
      "Revisando acción: AMZN\n",
      "Revisando acción: AXP\n",
      "Revisando acción: BABA\n",
      "Revisando acción: BB\n",
      "Revisando acción: CVX\n",
      "Revisando acción: DIS\n",
      "Revisando acción: F\n",
      "Revisando acción: FB\n",
      "Revisando acción: GE\n",
      "Revisando acción: GM\n",
      "Revisando acción: GME\n",
      "Revisando acción: GOOGL\n",
      "Revisando acción: HPQ\n",
      "Revisando acción: IBM\n",
      "Revisando acción: JNJ\n",
      "Revisando acción: KO\n",
      "Revisando acción: MCD\n",
      "Revisando acción: MMM\n",
      "Revisando acción: MSFT\n",
      "Revisando acción: NFLX\n",
      "Revisando acción: NOK\n",
      "Revisando acción: NVDA\n",
      "Revisando acción: ORCL\n",
      "Revisando acción: PEP\n",
      "Revisando acción: PFE\n",
      "Revisando acción: PYPL\n",
      "Revisando acción: SBUX\n",
      "Revisando acción: SNE\n",
      "Revisando acción: T\n",
      "Revisando acción: TSLA\n",
      "Revisando acción: TWTR\n",
      "Revisando acción: V\n",
      "Revisando acción: VZ\n",
      "Revisando acción: WMT\n",
      "Revisando acción: XOM\n",
      "Revisando acción: ZM\n",
      "Revisando acción: TSM\n",
      "Revisando acción: EBAY\n",
      "Revisando acción: TCEHY\n",
      "Revisando acción: BA\n",
      "Revisando acción: XIACF\n",
      "Revisando acción: BRK.B\n",
      "Revisando acción: CRM\n",
      "Revisando acción: UBER\n",
      "Revisando acción: SIRI\n",
      "Revisando acción: LUV\n",
      "Revisando acción: DAL\n",
      "Revisando acción: WORK\n",
      "Revisando acción: CRM\n",
      "Revisando acción: ET\n",
      "Revisando acción: RCL\n",
      "Revisando acción: ZNGA\n",
      "Revisando acción: NKLA\n",
      "Revisando acción: JBLU\n",
      "Revisando acción: GPRO\n",
      "Revisando acción: ZOM\n",
      "Revisando acción: AMC\n",
      "Revisando acción: TXMD\n",
      "Revisando acción: SAVE\n",
      "dump.json generado satisfactoriamente\n"
     ]
    }
   ],
   "source": [
    "stonks = ['AAPL','ABT','AMC','AMD','AMZN','AXP','BABA','BB','CVX','DIS','F','FB','GE','GM','GME','GOOGL','HPQ','IBM','JNJ','KO','MCD','MMM','MSFT','NFLX','NOK','NVDA','ORCL','PEP','PFE','PYPL','SBUX','SNE','T','TSLA','TWTR','V','VZ','WMT','XOM','ZM','TSM','EBAY','TCEHY','BA','XIACF','BRK.B','CRM','UBER','SIRI','LUV','DAL','WORK','CRM','ET','RCL','ZNGA','NKLA','JBLU','GPRO','ZOM','AMC','TXMD','SAVE',]\n",
    "dump = {}\n",
    "for stonk in stonks:\n",
    "  page = requests.get(f\"https://www.stockwatch.com/Quote/Detail?U:{stonk}\")\n",
    "  soup = BeautifulSoup(page.content, \"html.parser\")\n",
    "  print(f\"Revisando acción: {stonk}\")\n",
    "  \n",
    "  header = soup.find('td')\n",
    "  stock_info = header.text.split(\" - \")\n",
    "  stock_data = soup.find('tr', class_=f\"Upd\").find_all(\"td\")\n",
    "  name = stock_info[1]\n",
    "  website = stock_info[2]\n",
    "  if stock_info[0][0] == 'Q':\n",
    "    market = \"NASDAQ\"\n",
    "  else:\n",
    "    market = \"NYSE\"\n",
    "  try:\n",
    "    stock_amt = int(float(\"\".join(stock_data[9].text.split(\",\"))) * 1000)\n",
    "    cap = float(\"\".join(stock_data[10].text.split(\",\"))) * 1000\n",
    "  except ValueError:\n",
    "    stock_amt = int(float(\"\".join(stock_data[6].text.split(\",\"))) * 1000)\n",
    "    cap = float(\"\".join(stock_data[7].text.split(\",\"))) * 1000\n",
    "  pps = cap/stock_amt\n",
    "\n",
    "  \n",
    "  dump[stonk] = {'market': market,\n",
    "                 'name': name,\n",
    "                 'website': website,\n",
    "                 'market_cap': cap,\n",
    "                 'per_stock_price': pps,\n",
    "                 'vol': stock_amt,\n",
    "                 'cats': []\n",
    "                }\n",
    "with open('dump.json', 'w') as f:\n",
    "  print(json.dumps(dump, indent=4), file=f)\n",
    "  print(\"dump.json generado satisfactoriamente\")"
   ]
  },
  {
   "source": [
    "Convertir archivo dump en acciones en google firebase"
   ],
   "cell_type": "markdown",
   "metadata": {}
  },
  {
   "cell_type": "code",
   "execution_count": null,
   "metadata": {},
   "outputs": [],
   "source": []
  }
 ]
}