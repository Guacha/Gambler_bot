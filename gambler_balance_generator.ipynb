{
 "metadata": {
  "language_info": {
   "codemirror_mode": {
    "name": "ipython",
    "version": 3
   },
   "file_extension": ".py",
   "mimetype": "text/x-python",
   "name": "python",
   "nbconvert_exporter": "python",
   "pygments_lexer": "ipython3",
   "version": "3.9.1-final"
  },
  "orig_nbformat": 2,
  "kernelspec": {
   "name": "python3",
   "display_name": "Python 3",
   "language": "python"
  }
 },
 "nbformat": 4,
 "nbformat_minor": 2,
 "cells": [
  {
   "source": [
    "Setup para cuaderno"
   ],
   "cell_type": "markdown",
   "metadata": {}
  },
  {
   "cell_type": "code",
   "execution_count": 1,
   "metadata": {},
   "outputs": [
    {
     "output_type": "stream",
     "name": "stdout",
     "text": [
      "env: GOOGLE_APPLICATION_CREDENTIALS=google-credentials.json\n"
     ]
    }
   ],
   "source": [
    "%set_env GOOGLE_APPLICATION_CREDENTIALS=google-credentials.json"
   ]
  },
  {
   "cell_type": "code",
   "execution_count": 2,
   "metadata": {},
   "outputs": [
    {
     "output_type": "stream",
     "name": "stdout",
     "text": [
      "Inicializando módulo Firestore...\n",
      "Credenciales validadas, inicializando cliente...\n",
      "Cliente inicializado satisfactoriamente, conexión a Firebase exitosa!\n",
      "\tInicializando submódulo StockMarket.market\n",
      "\tMódulo cargado con éxito\n"
     ]
    }
   ],
   "source": [
    "import DB_Control\n",
    "import requests, json\n",
    "from bs4 import BeautifulSoup\n",
    "from StockMarket.market import StockMarket\n",
    "\n",
    "db = DB_Control.initialise_database()\n",
    "stonks = StockMarket(db)"
   ]
  },
  {
   "source": [
    "Recrear archivo dump con información de las acciones"
   ],
   "cell_type": "markdown",
   "metadata": {}
  },
  {
   "cell_type": "code",
   "execution_count": null,
   "metadata": {},
   "outputs": [],
   "source": [
    "stonks = ['AAPL','ABT','AMC','AMD','AMZN','AXP','BABA','BB','CVX','DIS','F','FB','GE','GM','GME','GOOGL','HPQ','IBM','JNJ','KO','MCD','MMM','MSFT','NFLX','NOK','NVDA','ORCL','PEP','PFE','PYPL','SBUX','SNE','T','TSLA','TWTR','V','VZ','WMT','XOM','ZM','TSM','EBAY','TCEHY','BA','XIACF','BRK.B','CRM','UBER','SIRI','LUV','DAL','WORK','CRM','ET','RCL','ZNGA','NKLA','JBLU','GPRO','ZOM','AMC','TXMD','SAVE',]\n",
    "dump = {}\n",
    "for stonk in stonks:\n",
    "  page = requests.get(f\"https://www.stockwatch.com/Quote/Detail?U:{stonk}\")\n",
    "  soup = BeautifulSoup(page.content, \"html.parser\")\n",
    "  print(f\"Revisando acción: {stonk}\")\n",
    "  \n",
    "  header = soup.find('td')\n",
    "  stock_info = header.text.split(\" - \")\n",
    "  stock_data = soup.find('tr', class_=f\"Upd\").find_all(\"td\")\n",
    "  name = stock_info[1]\n",
    "  website = stock_info[2]\n",
    "  if stock_info[0][0] == 'Q':\n",
    "    market = \"NASDAQ\"\n",
    "  else:\n",
    "    market = \"NYSE\"\n",
    "  try:\n",
    "    stock_amt = int(float(\"\".join(stock_data[9].text.split(\",\"))) * 1000)\n",
    "    cap = float(\"\".join(stock_data[10].text.split(\",\"))) * 1000\n",
    "  except ValueError:\n",
    "    stock_amt = int(float(\"\".join(stock_data[6].text.split(\",\"))) * 1000)\n",
    "    cap = float(\"\".join(stock_data[7].text.split(\",\"))) * 1000\n",
    "  pps = cap/stock_amt\n",
    "\n",
    "  \n",
    "  dump[stonk] = {'market': market,\n",
    "                 'name': name,\n",
    "                 'website': website,\n",
    "                 'market_cap': cap,\n",
    "                 'per_stock_price': pps,\n",
    "                 'vol': stock_amt,\n",
    "                 'cats': []\n",
    "                }\n",
    "with open('dump.json', 'w') as f:\n",
    "  print(json.dumps(dump, indent=4), file=f)\n",
    "  print(\"dump.json generado satisfactoriamente\")"
   ]
  },
  {
   "source": [
    "Convertir archivo dump en acciones en google firebase"
   ],
   "cell_type": "markdown",
   "metadata": {}
  },
  {
   "cell_type": "code",
   "execution_count": null,
   "metadata": {},
   "outputs": [],
   "source": [
    "with open(\"dump.json\") as file:\n",
    "    dump = json.load(file)\n",
    "    for symbol, info in dump.items():\n",
    "        payload = {\n",
    "            \"name\": info['name'],\n",
    "            \"market\": info['market'],\n",
    "            \"website\": info['website'],\n",
    "            \"total_stock_amount\": info[\"vol\"],\n",
    "            \"per_stock_price\": round(info[\"per_stock_price\"], 2),\n",
    "            \"categories\": [],\n",
    "            \"unique_events\": [],\n",
    "            \"current_stock_amount\": info[\"vol\"]\n",
    "        }\n",
    "        stonks.setup_stock(symbol, payload)"
   ]
  },
  {
   "cell_type": "code",
   "execution_count": null,
   "metadata": {},
   "outputs": [],
   "source": [
    "import matplotlib.pyplot as plt\n",
    "\n",
    "history, change = stonks.get_price_history(\"AAPL\", 60)\n",
    "\n",
    "prices = [doc.to_dict()[\"price\"] for doc in history]\n",
    "dates = [doc.to_dict()[\"timestamp\"] for doc in history]\n",
    "\n",
    "plt.plot(dates, prices)"
   ]
  }
 ]
}