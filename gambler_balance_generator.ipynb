{
 "metadata": {
  "language_info": {
   "codemirror_mode": {
    "name": "ipython",
    "version": 3
   },
   "file_extension": ".py",
   "mimetype": "text/x-python",
   "name": "python",
   "nbconvert_exporter": "python",
   "pygments_lexer": "ipython3",
   "version": "3.7.0-final"
  },
  "orig_nbformat": 2,
  "kernelspec": {
   "name": "python3",
   "display_name": "Python 3",
   "language": "python"
  }
 },
 "nbformat": 4,
 "nbformat_minor": 2,
 "cells": [
  {
   "source": [
    "Setup para cuaderno"
   ],
   "cell_type": "markdown",
   "metadata": {}
  },
  {
   "cell_type": "code",
   "execution_count": 1,
   "metadata": {},
   "outputs": [
    {
     "output_type": "stream",
     "name": "stdout",
     "text": [
      "env: GOOGLE_APPLICATION_CREDENTIALS=google-credentials.json\n"
     ]
    }
   ],
   "source": [
    "%set_env GOOGLE_APPLICATION_CREDENTIALS=google-credentials.json"
   ]
  },
  {
   "cell_type": "code",
   "execution_count": 5,
   "metadata": {},
   "outputs": [
    {
     "output_type": "stream",
     "name": "stdout",
     "text": [
      "\tInicializando submódulo StockMarket.market\n",
      "\tMódulo cargado con éxito\n"
     ]
    }
   ],
   "source": [
    "import DB_Control\n",
    "import requests, json\n",
    "from bs4 import BeautifulSoup\n",
    "from StockMarket.market import StockMarket\n",
    "\n",
    "db = DB_Control.initialise_database()\n",
    "stonks = StockMarket(db)"
   ]
  },
  {
   "source": [
    "Recrear archivo dump con información de las acciones"
   ],
   "cell_type": "markdown",
   "metadata": {}
  },
  {
   "cell_type": "code",
   "execution_count": 3,
   "metadata": {},
   "outputs": [
    {
     "output_type": "stream",
     "name": "stdout",
     "text": [
      "Revisando acción: AAPL\n",
      "Revisando acción: ABT\n",
      "Revisando acción: AMC\n",
      "Revisando acción: AMD\n",
      "Revisando acción: AMZN\n",
      "Revisando acción: AXP\n",
      "Revisando acción: BABA\n",
      "Revisando acción: BB\n",
      "Revisando acción: CVX\n",
      "Revisando acción: DIS\n",
      "Revisando acción: F\n",
      "Revisando acción: FB\n",
      "Revisando acción: GE\n",
      "Revisando acción: GM\n",
      "Revisando acción: GME\n",
      "Revisando acción: GOOGL\n",
      "Revisando acción: HPQ\n",
      "Revisando acción: IBM\n",
      "Revisando acción: JNJ\n",
      "Revisando acción: KO\n",
      "Revisando acción: MCD\n",
      "Revisando acción: MMM\n",
      "Revisando acción: MSFT\n",
      "Revisando acción: NFLX\n",
      "Revisando acción: NOK\n",
      "Revisando acción: NVDA\n",
      "Revisando acción: ORCL\n",
      "Revisando acción: PEP\n",
      "Revisando acción: PFE\n",
      "Revisando acción: PYPL\n",
      "Revisando acción: SBUX\n",
      "Revisando acción: SNE\n",
      "Revisando acción: T\n",
      "Revisando acción: TSLA\n",
      "Revisando acción: TWTR\n",
      "Revisando acción: V\n",
      "Revisando acción: VZ\n",
      "Revisando acción: WMT\n",
      "Revisando acción: XOM\n",
      "Revisando acción: ZM\n",
      "Revisando acción: TSM\n",
      "Revisando acción: EBAY\n",
      "Revisando acción: TCEHY\n",
      "Revisando acción: BA\n",
      "Revisando acción: XIACF\n",
      "Revisando acción: BRK.B\n",
      "Revisando acción: CRM\n",
      "Revisando acción: UBER\n",
      "Revisando acción: SIRI\n",
      "Revisando acción: LUV\n",
      "Revisando acción: DAL\n",
      "Revisando acción: WORK\n",
      "Revisando acción: CRM\n",
      "Revisando acción: ET\n",
      "Revisando acción: RCL\n",
      "Revisando acción: ZNGA\n",
      "Revisando acción: NKLA\n",
      "Revisando acción: JBLU\n",
      "Revisando acción: GPRO\n",
      "Revisando acción: ZOM\n",
      "Revisando acción: AMC\n",
      "Revisando acción: TXMD\n",
      "Revisando acción: SAVE\n",
      "dump.json generado satisfactoriamente\n"
     ]
    }
   ],
   "source": [
    "stonks_to_search = ['AAPL','ABT','AMC','AMD','AMZN','AXP','BABA','BB','CVX','DIS','F','FB','GE','GM','GME','GOOGL','HPQ','IBM','JNJ','KO','MCD','MMM','MSFT','NFLX','NOK','NVDA','ORCL','PEP','PFE','PYPL','SBUX','SNE','T','TSLA','TWTR','V','VZ','WMT','XOM','ZM','TSM','EBAY','TCEHY','BA','XIACF','BRK.B','CRM','UBER','SIRI','LUV','DAL','WORK','CRM','ET','RCL','ZNGA','NKLA','JBLU','GPRO','ZOM','AMC','TXMD','SAVE',]\n",
    "dump = {}\n",
    "for stonk in stonks_to_search:\n",
    "  page = requests.get(f\"https://www.stockwatch.com/Quote/Detail?U:{stonk}\")\n",
    "  soup = BeautifulSoup(page.content, \"html.parser\")\n",
    "  print(f\"Revisando acción: {stonk}\")\n",
    "  \n",
    "  header = soup.find('td')\n",
    "  stock_info = header.text.split(\" - \")\n",
    "  stock_data = soup.find('tr', class_=f\"Upd\").find_all(\"td\")\n",
    "  name = stock_info[1]\n",
    "  website = stock_info[2]\n",
    "  if stock_info[0][0] == 'Q':\n",
    "    market = \"NASDAQ\"\n",
    "  else:\n",
    "    market = \"NYSE\"\n",
    "  try:\n",
    "    stock_amt = int(float(\"\".join(stock_data[9].text.split(\",\"))) * 1000)\n",
    "    cap = float(\"\".join(stock_data[10].text.split(\",\"))) * 1000\n",
    "  except ValueError:\n",
    "    stock_amt = int(float(\"\".join(stock_data[6].text.split(\",\"))) * 1000)\n",
    "    cap = float(\"\".join(stock_data[7].text.split(\",\"))) * 1000\n",
    "  pps = cap/stock_amt\n",
    "\n",
    "  \n",
    "  dump[stonk] = {'market': market,\n",
    "                 'name': name,\n",
    "                 'website': website,\n",
    "                 'market_cap': cap,\n",
    "                 'per_stock_price': pps,\n",
    "                 'vol': stock_amt,\n",
    "                 'cats': []\n",
    "                }\n",
    "with open('dump.json', 'w') as f:\n",
    "  print(json.dumps(dump, indent=4), file=f)\n",
    "  print(\"dump.json generado satisfactoriamente\")"
   ]
  },
  {
   "source": [
    "Convertir archivo dump en acciones en google firebase"
   ],
   "cell_type": "markdown",
   "metadata": {}
  },
  {
   "cell_type": "code",
   "execution_count": 7,
   "metadata": {},
   "outputs": [],
   "source": [
    "with open(\"dump.json\") as file:\n",
    "    dump = json.load(file)\n",
    "    for symbol, info in dump.items():\n",
    "        payload = {\n",
    "            \"name\": info['name'],\n",
    "            \"market\": info['market'],\n",
    "            \"website\": info['website'],\n",
    "            \"total_stock_amount\": info[\"vol\"],\n",
    "            \"per_stock_price\": round(info[\"per_stock_price\"], 2),\n",
    "            \"categories\": [],\n",
    "            \"unique_events\": [],\n",
    "            \"current_stock_amount\": info[\"vol\"]\n",
    "        }\n",
    "        stonks.setup_stock(symbol, payload)"
   ]
  },
  {
   "cell_type": "code",
   "execution_count": 8,
   "metadata": {},
   "outputs": [
    {
     "output_type": "error",
     "ename": "Unknown",
     "evalue": "None Stream removed",
     "traceback": [
      "\u001b[1;31m---------------------------------------------------------------------------\u001b[0m",
      "\u001b[1;31m_InactiveRpcError\u001b[0m                         Traceback (most recent call last)",
      "\u001b[1;32mc:\\Users\\Guach\\Desktop\\Gambler\\venv\\lib\\site-packages\\google\\api_core\\grpc_helpers.py\u001b[0m in \u001b[0;36merror_remapped_callable\u001b[1;34m(*args, **kwargs)\u001b[0m\n\u001b[0;32m     56\u001b[0m         \u001b[1;32mtry\u001b[0m\u001b[1;33m:\u001b[0m\u001b[1;33m\u001b[0m\u001b[0m\n\u001b[1;32m---> 57\u001b[1;33m             \u001b[1;32mreturn\u001b[0m \u001b[0mcallable_\u001b[0m\u001b[1;33m(\u001b[0m\u001b[1;33m*\u001b[0m\u001b[0margs\u001b[0m\u001b[1;33m,\u001b[0m \u001b[1;33m**\u001b[0m\u001b[0mkwargs\u001b[0m\u001b[1;33m)\u001b[0m\u001b[1;33m\u001b[0m\u001b[0m\n\u001b[0m\u001b[0;32m     58\u001b[0m         \u001b[1;32mexcept\u001b[0m \u001b[0mgrpc\u001b[0m\u001b[1;33m.\u001b[0m\u001b[0mRpcError\u001b[0m \u001b[1;32mas\u001b[0m \u001b[0mexc\u001b[0m\u001b[1;33m:\u001b[0m\u001b[1;33m\u001b[0m\u001b[0m\n",
      "\u001b[1;32mc:\\Users\\Guach\\Desktop\\Gambler\\venv\\lib\\site-packages\\grpc\\_channel.py\u001b[0m in \u001b[0;36m__call__\u001b[1;34m(self, request, timeout, metadata, credentials, wait_for_ready, compression)\u001b[0m\n\u001b[0;32m    922\u001b[0m                                       wait_for_ready, compression)\n\u001b[1;32m--> 923\u001b[1;33m         \u001b[1;32mreturn\u001b[0m \u001b[0m_end_unary_response_blocking\u001b[0m\u001b[1;33m(\u001b[0m\u001b[0mstate\u001b[0m\u001b[1;33m,\u001b[0m \u001b[0mcall\u001b[0m\u001b[1;33m,\u001b[0m \u001b[1;32mFalse\u001b[0m\u001b[1;33m,\u001b[0m \u001b[1;32mNone\u001b[0m\u001b[1;33m)\u001b[0m\u001b[1;33m\u001b[0m\u001b[0m\n\u001b[0m\u001b[0;32m    924\u001b[0m \u001b[1;33m\u001b[0m\u001b[0m\n",
      "\u001b[1;32mc:\\Users\\Guach\\Desktop\\Gambler\\venv\\lib\\site-packages\\grpc\\_channel.py\u001b[0m in \u001b[0;36m_end_unary_response_blocking\u001b[1;34m(state, call, with_call, deadline)\u001b[0m\n\u001b[0;32m    825\u001b[0m     \u001b[1;32melse\u001b[0m\u001b[1;33m:\u001b[0m\u001b[1;33m\u001b[0m\u001b[0m\n\u001b[1;32m--> 826\u001b[1;33m         \u001b[1;32mraise\u001b[0m \u001b[0m_InactiveRpcError\u001b[0m\u001b[1;33m(\u001b[0m\u001b[0mstate\u001b[0m\u001b[1;33m)\u001b[0m\u001b[1;33m\u001b[0m\u001b[0m\n\u001b[0m\u001b[0;32m    827\u001b[0m \u001b[1;33m\u001b[0m\u001b[0m\n",
      "\u001b[1;31m_InactiveRpcError\u001b[0m: <_InactiveRpcError of RPC that terminated with:\n\tstatus = StatusCode.UNKNOWN\n\tdetails = \"Stream removed\"\n\tdebug_error_string = \"{\"created\":\"@1614215836.612000000\",\"description\":\"Error received from peer ipv4:142.250.78.170:443\",\"file\":\"src/core/lib/surface/call.cc\",\"file_line\":1068,\"grpc_message\":\"Stream removed\",\"grpc_status\":2}\"\n>",
      "\nThe above exception was the direct cause of the following exception:\n",
      "\u001b[1;31mUnknown\u001b[0m                                   Traceback (most recent call last)",
      "\u001b[1;32m<ipython-input-8-f2722f5d2606>\u001b[0m in \u001b[0;36m<module>\u001b[1;34m\u001b[0m\n\u001b[0;32m      2\u001b[0m     \u001b[0mdocs\u001b[0m \u001b[1;33m=\u001b[0m \u001b[0mdoc\u001b[0m\u001b[1;33m.\u001b[0m\u001b[0mcollection\u001b[0m\u001b[1;33m(\u001b[0m\u001b[1;34m\"price_history\"\u001b[0m\u001b[1;33m)\u001b[0m\u001b[1;33m.\u001b[0m\u001b[0mlist_documents\u001b[0m\u001b[1;33m(\u001b[0m\u001b[1;33m)\u001b[0m\u001b[1;33m\u001b[0m\u001b[0m\n\u001b[0;32m      3\u001b[0m     \u001b[1;32mfor\u001b[0m \u001b[0mfile\u001b[0m \u001b[1;32min\u001b[0m \u001b[0mdocs\u001b[0m\u001b[1;33m:\u001b[0m\u001b[1;33m\u001b[0m\u001b[0m\n\u001b[1;32m----> 4\u001b[1;33m         \u001b[0mfile\u001b[0m\u001b[1;33m.\u001b[0m\u001b[0mdelete\u001b[0m\u001b[1;33m(\u001b[0m\u001b[1;33m)\u001b[0m\u001b[1;33m\u001b[0m\u001b[0m\n\u001b[0m",
      "\u001b[1;32mc:\\Users\\Guach\\Desktop\\Gambler\\venv\\lib\\site-packages\\google\\cloud\\firestore_v1\\document.py\u001b[0m in \u001b[0;36mdelete\u001b[1;34m(self, option, retry, timeout)\u001b[0m\n\u001b[0;32m    313\u001b[0m \u001b[1;33m\u001b[0m\u001b[0m\n\u001b[0;32m    314\u001b[0m         commit_response = self._client._firestore_api.commit(\n\u001b[1;32m--> 315\u001b[1;33m             \u001b[0mrequest\u001b[0m\u001b[1;33m=\u001b[0m\u001b[0mrequest\u001b[0m\u001b[1;33m,\u001b[0m \u001b[0mmetadata\u001b[0m\u001b[1;33m=\u001b[0m\u001b[0mself\u001b[0m\u001b[1;33m.\u001b[0m\u001b[0m_client\u001b[0m\u001b[1;33m.\u001b[0m\u001b[0m_rpc_metadata\u001b[0m\u001b[1;33m,\u001b[0m \u001b[1;33m**\u001b[0m\u001b[0mkwargs\u001b[0m\u001b[1;33m,\u001b[0m\u001b[1;33m\u001b[0m\u001b[0m\n\u001b[0m\u001b[0;32m    316\u001b[0m         )\n\u001b[0;32m    317\u001b[0m \u001b[1;33m\u001b[0m\u001b[0m\n",
      "\u001b[1;32mc:\\Users\\Guach\\Desktop\\Gambler\\venv\\lib\\site-packages\\google\\cloud\\firestore_v1\\services\\firestore\\client.py\u001b[0m in \u001b[0;36mcommit\u001b[1;34m(self, request, database, writes, retry, timeout, metadata)\u001b[0m\n\u001b[0;32m    817\u001b[0m \u001b[1;33m\u001b[0m\u001b[0m\n\u001b[0;32m    818\u001b[0m         \u001b[1;31m# Send the request.\u001b[0m\u001b[1;33m\u001b[0m\u001b[1;33m\u001b[0m\u001b[0m\n\u001b[1;32m--> 819\u001b[1;33m         \u001b[0mresponse\u001b[0m \u001b[1;33m=\u001b[0m \u001b[0mrpc\u001b[0m\u001b[1;33m(\u001b[0m\u001b[0mrequest\u001b[0m\u001b[1;33m,\u001b[0m \u001b[0mretry\u001b[0m\u001b[1;33m=\u001b[0m\u001b[0mretry\u001b[0m\u001b[1;33m,\u001b[0m \u001b[0mtimeout\u001b[0m\u001b[1;33m=\u001b[0m\u001b[0mtimeout\u001b[0m\u001b[1;33m,\u001b[0m \u001b[0mmetadata\u001b[0m\u001b[1;33m=\u001b[0m\u001b[0mmetadata\u001b[0m\u001b[1;33m,\u001b[0m\u001b[1;33m)\u001b[0m\u001b[1;33m\u001b[0m\u001b[0m\n\u001b[0m\u001b[0;32m    820\u001b[0m \u001b[1;33m\u001b[0m\u001b[0m\n\u001b[0;32m    821\u001b[0m         \u001b[1;31m# Done; return the response.\u001b[0m\u001b[1;33m\u001b[0m\u001b[1;33m\u001b[0m\u001b[0m\n",
      "\u001b[1;32mc:\\Users\\Guach\\Desktop\\Gambler\\venv\\lib\\site-packages\\google\\api_core\\gapic_v1\\method.py\u001b[0m in \u001b[0;36m__call__\u001b[1;34m(self, *args, **kwargs)\u001b[0m\n\u001b[0;32m    143\u001b[0m             \u001b[0mkwargs\u001b[0m\u001b[1;33m[\u001b[0m\u001b[1;34m\"metadata\"\u001b[0m\u001b[1;33m]\u001b[0m \u001b[1;33m=\u001b[0m \u001b[0mmetadata\u001b[0m\u001b[1;33m\u001b[0m\u001b[0m\n\u001b[0;32m    144\u001b[0m \u001b[1;33m\u001b[0m\u001b[0m\n\u001b[1;32m--> 145\u001b[1;33m         \u001b[1;32mreturn\u001b[0m \u001b[0mwrapped_func\u001b[0m\u001b[1;33m(\u001b[0m\u001b[1;33m*\u001b[0m\u001b[0margs\u001b[0m\u001b[1;33m,\u001b[0m \u001b[1;33m**\u001b[0m\u001b[0mkwargs\u001b[0m\u001b[1;33m)\u001b[0m\u001b[1;33m\u001b[0m\u001b[0m\n\u001b[0m\u001b[0;32m    146\u001b[0m \u001b[1;33m\u001b[0m\u001b[0m\n\u001b[0;32m    147\u001b[0m \u001b[1;33m\u001b[0m\u001b[0m\n",
      "\u001b[1;32mc:\\Users\\Guach\\Desktop\\Gambler\\venv\\lib\\site-packages\\google\\api_core\\retry.py\u001b[0m in \u001b[0;36mretry_wrapped_func\u001b[1;34m(*args, **kwargs)\u001b[0m\n\u001b[0;32m    284\u001b[0m                 \u001b[0msleep_generator\u001b[0m\u001b[1;33m,\u001b[0m\u001b[1;33m\u001b[0m\u001b[0m\n\u001b[0;32m    285\u001b[0m                 \u001b[0mself\u001b[0m\u001b[1;33m.\u001b[0m\u001b[0m_deadline\u001b[0m\u001b[1;33m,\u001b[0m\u001b[1;33m\u001b[0m\u001b[0m\n\u001b[1;32m--> 286\u001b[1;33m                 \u001b[0mon_error\u001b[0m\u001b[1;33m=\u001b[0m\u001b[0mon_error\u001b[0m\u001b[1;33m,\u001b[0m\u001b[1;33m\u001b[0m\u001b[0m\n\u001b[0m\u001b[0;32m    287\u001b[0m             )\n\u001b[0;32m    288\u001b[0m \u001b[1;33m\u001b[0m\u001b[0m\n",
      "\u001b[1;32mc:\\Users\\Guach\\Desktop\\Gambler\\venv\\lib\\site-packages\\google\\api_core\\retry.py\u001b[0m in \u001b[0;36mretry_target\u001b[1;34m(target, predicate, sleep_generator, deadline, on_error)\u001b[0m\n\u001b[0;32m    182\u001b[0m     \u001b[1;32mfor\u001b[0m \u001b[0msleep\u001b[0m \u001b[1;32min\u001b[0m \u001b[0msleep_generator\u001b[0m\u001b[1;33m:\u001b[0m\u001b[1;33m\u001b[0m\u001b[0m\n\u001b[0;32m    183\u001b[0m         \u001b[1;32mtry\u001b[0m\u001b[1;33m:\u001b[0m\u001b[1;33m\u001b[0m\u001b[0m\n\u001b[1;32m--> 184\u001b[1;33m             \u001b[1;32mreturn\u001b[0m \u001b[0mtarget\u001b[0m\u001b[1;33m(\u001b[0m\u001b[1;33m)\u001b[0m\u001b[1;33m\u001b[0m\u001b[0m\n\u001b[0m\u001b[0;32m    185\u001b[0m \u001b[1;33m\u001b[0m\u001b[0m\n\u001b[0;32m    186\u001b[0m         \u001b[1;31m# pylint: disable=broad-except\u001b[0m\u001b[1;33m\u001b[0m\u001b[1;33m\u001b[0m\u001b[0m\n",
      "\u001b[1;32mc:\\Users\\Guach\\Desktop\\Gambler\\venv\\lib\\site-packages\\google\\api_core\\grpc_helpers.py\u001b[0m in \u001b[0;36merror_remapped_callable\u001b[1;34m(*args, **kwargs)\u001b[0m\n\u001b[0;32m     57\u001b[0m             \u001b[1;32mreturn\u001b[0m \u001b[0mcallable_\u001b[0m\u001b[1;33m(\u001b[0m\u001b[1;33m*\u001b[0m\u001b[0margs\u001b[0m\u001b[1;33m,\u001b[0m \u001b[1;33m**\u001b[0m\u001b[0mkwargs\u001b[0m\u001b[1;33m)\u001b[0m\u001b[1;33m\u001b[0m\u001b[0m\n\u001b[0;32m     58\u001b[0m         \u001b[1;32mexcept\u001b[0m \u001b[0mgrpc\u001b[0m\u001b[1;33m.\u001b[0m\u001b[0mRpcError\u001b[0m \u001b[1;32mas\u001b[0m \u001b[0mexc\u001b[0m\u001b[1;33m:\u001b[0m\u001b[1;33m\u001b[0m\u001b[0m\n\u001b[1;32m---> 59\u001b[1;33m             \u001b[0msix\u001b[0m\u001b[1;33m.\u001b[0m\u001b[0mraise_from\u001b[0m\u001b[1;33m(\u001b[0m\u001b[0mexceptions\u001b[0m\u001b[1;33m.\u001b[0m\u001b[0mfrom_grpc_error\u001b[0m\u001b[1;33m(\u001b[0m\u001b[0mexc\u001b[0m\u001b[1;33m)\u001b[0m\u001b[1;33m,\u001b[0m \u001b[0mexc\u001b[0m\u001b[1;33m)\u001b[0m\u001b[1;33m\u001b[0m\u001b[0m\n\u001b[0m\u001b[0;32m     60\u001b[0m \u001b[1;33m\u001b[0m\u001b[0m\n\u001b[0;32m     61\u001b[0m     \u001b[1;32mreturn\u001b[0m \u001b[0merror_remapped_callable\u001b[0m\u001b[1;33m\u001b[0m\u001b[0m\n",
      "\u001b[1;32mc:\\Users\\Guach\\Desktop\\Gambler\\venv\\lib\\site-packages\\six.py\u001b[0m in \u001b[0;36mraise_from\u001b[1;34m(value, from_value)\u001b[0m\n",
      "\u001b[1;31mUnknown\u001b[0m: None Stream removed"
     ]
    }
   ],
   "source": [
    "for doc in stonks.stock_refs.values():\n",
    "    docs = doc.collection(\"price_history\").list_documents()\n",
    "    for file in docs:\n",
    "        file.delete()"
   ]
  },
  {
   "cell_type": "code",
   "execution_count": null,
   "metadata": {},
   "outputs": [],
   "source": []
  }
 ]
}