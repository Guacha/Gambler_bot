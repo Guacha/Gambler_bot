{
 "metadata": {
  "language_info": {
   "codemirror_mode": {
    "name": "ipython",
    "version": 3
   },
   "file_extension": ".py",
   "mimetype": "text/x-python",
   "name": "python",
   "nbconvert_exporter": "python",
   "pygments_lexer": "ipython3",
   "version": "3.9.1-final"
  },
  "orig_nbformat": 2,
  "kernelspec": {
   "name": "python3",
   "display_name": "Python 3",
   "language": "python"
  }
 },
 "nbformat": 4,
 "nbformat_minor": 2,
 "cells": [
  {
   "cell_type": "code",
   "execution_count": null,
   "metadata": {},
   "outputs": [],
   "source": [
    "%set_env GOOGLE_APPLICATION_CREDENTIALS=google-credentials.json"
   ]
  },
  {
   "cell_type": "code",
   "execution_count": null,
   "metadata": {},
   "outputs": [],
   "source": [
    "import DB_Control\n",
    "from StockMarket.market import StockMarket\n",
    "import yfinance as yf\n",
    "\n",
    "db = DB_Control.initialise_database()\n",
    "stonks = StockMarket(db)"
   ]
  },
  {
   "cell_type": "code",
   "execution_count": 2,
   "metadata": {},
   "outputs": [
    {
     "output_type": "execute_result",
     "data": {
      "text/plain": [
       "'Communication Services'"
      ]
     },
     "metadata": {},
     "execution_count": 2
    }
   ],
   "source": [
    "import yfinance as yf\n",
    "a = yf.Ticker(\"T\")\n",
    "a.info[\"sector\"]"
   ]
  },
  {
   "cell_type": "code",
   "execution_count": null,
   "metadata": {
    "tags": [
     "outputPrepend"
    ]
   },
   "outputs": [],
   "source": [
    "from datetime import datetime\n",
    "# Generar una hora de datos aleatorios\n",
    "for sym, doc in stonks.stock_refs.items():\n",
    "    for i in range(100):\n",
    "        current, new, change, free = stonks.calculate_price_change(sym)\n",
    "        stonks.price_to_history(sym, current, change, free)\n",
    "        stonks.set_stock_price(sym, new)\n",
    "        print(f\"Price for {sym}: {round(current, 2)} -> {round(new, 2)} ({round(change*100, 2)}% change)\")\n",
    "    \n",
    "    history, tot_change = stonks.get_price_history(sym, 100)\n",
    "    print(f\"En este tiempo, {sym} cambió en {round(tot_change*100, 2)}%\\n\")\n",
    "        "
   ]
  },
  {
   "cell_type": "code",
   "execution_count": null,
   "metadata": {},
   "outputs": [],
   "source": [
    "import matplotlib.pyplot as plt\n",
    "\n",
    "history, change = stonks.get_price_history(\"FB\", 100)\n",
    "\n",
    "prices = [doc.to_dict()[\"price\"] for doc in history]\n",
    "dates = [doc.to_dict()[\"timestamp\"] for doc in history]\n",
    "\n",
    "plt.plot(dates, prices)"
   ]
  },
  {
   "cell_type": "code",
   "execution_count": null,
   "metadata": {},
   "outputs": [],
   "source": []
  }
 ]
}