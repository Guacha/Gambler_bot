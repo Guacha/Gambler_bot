{
 "metadata": {
  "language_info": {
   "codemirror_mode": {
    "name": "ipython",
    "version": 3
   },
   "file_extension": ".py",
   "mimetype": "text/x-python",
   "name": "python",
   "nbconvert_exporter": "python",
   "pygments_lexer": "ipython3",
   "version": "3.7.0"
  },
  "orig_nbformat": 2,
  "kernelspec": {
   "name": "python3",
   "display_name": "Python 3.7.0 64-bit ('venv': venv)",
   "metadata": {
    "interpreter": {
     "hash": "09f607883ca184129f04b948e7a08d526ed0cb04b06dee04c627994dfdf4ba25"
    }
   }
  }
 },
 "nbformat": 4,
 "nbformat_minor": 2,
 "cells": [
  {
   "cell_type": "code",
   "execution_count": 1,
   "metadata": {},
   "outputs": [
    {
     "output_type": "stream",
     "name": "stdout",
     "text": [
      "env: GOOGLE_APPLICATION_CREDENTIALS=google-credentials.json\n"
     ]
    }
   ],
   "source": [
    "%set_env GOOGLE_APPLICATION_CREDENTIALS=google-credentials.json"
   ]
  },
  {
   "cell_type": "code",
   "execution_count": 2,
   "metadata": {},
   "outputs": [
    {
     "output_type": "stream",
     "name": "stdout",
     "text": [
      "Inicializando módulo Firestore...\n",
      "Credenciales validadas, inicializando cliente...\n",
      "Cliente inicializado satisfactoriamente, conexión a Firebase exitosa!\n",
      "\tInicializando submódulo StockMarket.market\n",
      "\tMódulo cargado con éxito\n"
     ]
    }
   ],
   "source": [
    "import DB_Control\n",
    "from StockMarket.market import StockMarket\n",
    "\n",
    "db = DB_Control.initialise_database()\n",
    "stonks = StockMarket(db)"
   ]
  },
  {
   "cell_type": "code",
   "execution_count": 3,
   "metadata": {},
   "outputs": [
    {
     "output_type": "execute_result",
     "data": {
      "text/plain": [
       "{'AAPL': <google.cloud.firestore_v1.document.DocumentReference at 0x19b928a7828>,\n",
       " 'ABT': <google.cloud.firestore_v1.document.DocumentReference at 0x19b928a77b8>,\n",
       " 'AMC': <google.cloud.firestore_v1.document.DocumentReference at 0x19b928a7d30>,\n",
       " 'AMD': <google.cloud.firestore_v1.document.DocumentReference at 0x19b929c79e8>,\n",
       " 'AMZN': <google.cloud.firestore_v1.document.DocumentReference at 0x19b929c74a8>,\n",
       " 'AXP': <google.cloud.firestore_v1.document.DocumentReference at 0x19b929c7908>,\n",
       " 'BA': <google.cloud.firestore_v1.document.DocumentReference at 0x19b929c7358>,\n",
       " 'BABA': <google.cloud.firestore_v1.document.DocumentReference at 0x19b929c7a90>,\n",
       " 'BB': <google.cloud.firestore_v1.document.DocumentReference at 0x19b929c7b70>,\n",
       " 'BRK.B': <google.cloud.firestore_v1.document.DocumentReference at 0x19b929c7c50>,\n",
       " 'CRM': <google.cloud.firestore_v1.document.DocumentReference at 0x19b929c7d30>,\n",
       " 'CVX': <google.cloud.firestore_v1.document.DocumentReference at 0x19b929c7e10>,\n",
       " 'DAL': <google.cloud.firestore_v1.document.DocumentReference at 0x19b929c7ef0>,\n",
       " 'DIS': <google.cloud.firestore_v1.document.DocumentReference at 0x19b929c7fd0>,\n",
       " 'EBAY': <google.cloud.firestore_v1.document.DocumentReference at 0x19b929e50f0>,\n",
       " 'ET': <google.cloud.firestore_v1.document.DocumentReference at 0x19b929e51d0>,\n",
       " 'F': <google.cloud.firestore_v1.document.DocumentReference at 0x19b929e5240>,\n",
       " 'FB': <google.cloud.firestore_v1.document.DocumentReference at 0x19b929e5358>,\n",
       " 'GE': <google.cloud.firestore_v1.document.DocumentReference at 0x19b929e5438>,\n",
       " 'GM': <google.cloud.firestore_v1.document.DocumentReference at 0x19b929e5518>,\n",
       " 'GME': <google.cloud.firestore_v1.document.DocumentReference at 0x19b929e55c0>,\n",
       " 'GOOGL': <google.cloud.firestore_v1.document.DocumentReference at 0x19b929e5710>,\n",
       " 'GPRO': <google.cloud.firestore_v1.document.DocumentReference at 0x19b929e57f0>,\n",
       " 'HPQ': <google.cloud.firestore_v1.document.DocumentReference at 0x19b929e58d0>,\n",
       " 'IBM': <google.cloud.firestore_v1.document.DocumentReference at 0x19b929e59b0>,\n",
       " 'JBLU': <google.cloud.firestore_v1.document.DocumentReference at 0x19b929e5a90>,\n",
       " 'JNJ': <google.cloud.firestore_v1.document.DocumentReference at 0x19b929e5b70>,\n",
       " 'KO': <google.cloud.firestore_v1.document.DocumentReference at 0x19b929e5c50>,\n",
       " 'LUV': <google.cloud.firestore_v1.document.DocumentReference at 0x19b929e5d30>,\n",
       " 'MCD': <google.cloud.firestore_v1.document.DocumentReference at 0x19b929e5e10>,\n",
       " 'MMM': <google.cloud.firestore_v1.document.DocumentReference at 0x19b929e5ef0>,\n",
       " 'MSFT': <google.cloud.firestore_v1.document.DocumentReference at 0x19b929e5fd0>,\n",
       " 'NFLX': <google.cloud.firestore_v1.document.DocumentReference at 0x19b929e60f0>,\n",
       " 'NKLA': <google.cloud.firestore_v1.document.DocumentReference at 0x19b929e61d0>,\n",
       " 'NOK': <google.cloud.firestore_v1.document.DocumentReference at 0x19b929e62b0>,\n",
       " 'NVDA': <google.cloud.firestore_v1.document.DocumentReference at 0x19b929e6390>,\n",
       " 'ORCL': <google.cloud.firestore_v1.document.DocumentReference at 0x19b929e6470>,\n",
       " 'PEP': <google.cloud.firestore_v1.document.DocumentReference at 0x19b929e6550>,\n",
       " 'PFE': <google.cloud.firestore_v1.document.DocumentReference at 0x19b929e6630>,\n",
       " 'PYPL': <google.cloud.firestore_v1.document.DocumentReference at 0x19b929e6710>,\n",
       " 'RCL': <google.cloud.firestore_v1.document.DocumentReference at 0x19b929e67b8>,\n",
       " 'SAVE': <google.cloud.firestore_v1.document.DocumentReference at 0x19b929e6908>,\n",
       " 'SBUX': <google.cloud.firestore_v1.document.DocumentReference at 0x19b929e69e8>,\n",
       " 'SIRI': <google.cloud.firestore_v1.document.DocumentReference at 0x19b929e6ac8>,\n",
       " 'SNE': <google.cloud.firestore_v1.document.DocumentReference at 0x19b929e6ba8>,\n",
       " 'T': <google.cloud.firestore_v1.document.DocumentReference at 0x19b929e6c18>,\n",
       " 'TSLA': <google.cloud.firestore_v1.document.DocumentReference at 0x19b929e6d30>,\n",
       " 'TSM': <google.cloud.firestore_v1.document.DocumentReference at 0x19b929e6e10>,\n",
       " 'TWTR': <google.cloud.firestore_v1.document.DocumentReference at 0x19b929e6ef0>,\n",
       " 'TXMD': <google.cloud.firestore_v1.document.DocumentReference at 0x19b929e6fd0>,\n",
       " 'UBER': <google.cloud.firestore_v1.document.DocumentReference at 0x19b929e70f0>,\n",
       " 'V': <google.cloud.firestore_v1.document.DocumentReference at 0x19b929e7160>,\n",
       " 'VZ': <google.cloud.firestore_v1.document.DocumentReference at 0x19b929e7278>,\n",
       " 'WMT': <google.cloud.firestore_v1.document.DocumentReference at 0x19b929e7358>,\n",
       " 'WORK': <google.cloud.firestore_v1.document.DocumentReference at 0x19b929e7438>,\n",
       " 'XIACF': <google.cloud.firestore_v1.document.DocumentReference at 0x19b929e7518>,\n",
       " 'XOM': <google.cloud.firestore_v1.document.DocumentReference at 0x19b929e75f8>,\n",
       " 'ZM': <google.cloud.firestore_v1.document.DocumentReference at 0x19b929e76d8>,\n",
       " 'ZNGA': <google.cloud.firestore_v1.document.DocumentReference at 0x19b929e77b8>,\n",
       " 'ZOM': <google.cloud.firestore_v1.document.DocumentReference at 0x19b929e7898>}"
      ]
     },
     "metadata": {},
     "execution_count": 3
    }
   ],
   "source": [
    "stonks.stock_refs"
   ]
  },
  {
   "cell_type": "code",
   "execution_count": null,
   "metadata": {},
   "outputs": [],
   "source": []
  }
 ]
}